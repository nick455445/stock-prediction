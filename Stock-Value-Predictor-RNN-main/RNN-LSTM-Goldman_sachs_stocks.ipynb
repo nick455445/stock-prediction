{
 "cells": [
  {
   "cell_type": "code",
   "execution_count": 1,
   "metadata": {},
   "outputs": [
    {
     "name": "stderr",
     "output_type": "stream",
     "text": [
      "Using TensorFlow backend.\n"
     ]
    }
   ],
   "source": [
    "import numpy as np\n",
    "import pandas as pd\n",
    "from matplotlib import pyplot as plt\n",
    "import keras\n",
    "import tensorflow as tf"
   ]
  },
  {
   "cell_type": "code",
   "execution_count": 2,
   "metadata": {},
   "outputs": [],
   "source": [
    "train_dataset=pd.read_csv(\"Goldman_sachs_stocks.csv\")"
   ]
  },
  {
   "cell_type": "code",
   "execution_count": 3,
   "metadata": {},
   "outputs": [],
   "source": [
    "train=train_dataset.iloc[:,1:2].values"
   ]
  },
  {
   "cell_type": "code",
   "execution_count": 4,
   "metadata": {},
   "outputs": [],
   "source": [
    "from sklearn.preprocessing import MinMaxScaler"
   ]
  },
  {
   "cell_type": "code",
   "execution_count": 5,
   "metadata": {},
   "outputs": [],
   "source": [
    "sc=MinMaxScaler(feature_range=(0,1))\n",
    "train_scaled=sc.fit_transform(train)"
   ]
  },
  {
   "cell_type": "code",
   "execution_count": 6,
   "metadata": {},
   "outputs": [],
   "source": [
    "x_train=[]\n",
    "y_train=[]\n",
    "for i in range(50,1258):\n",
    "    x_train.append(train_scaled[i-50:i,0])\n",
    "    y_train.append(train_scaled[i])\n"
   ]
  },
  {
   "cell_type": "code",
   "execution_count": null,
   "metadata": {},
   "outputs": [],
   "source": [
    "\n"
   ]
  },
  {
   "cell_type": "code",
   "execution_count": 7,
   "metadata": {},
   "outputs": [],
   "source": [
    "x_train,y_train=np.array(x_train),np.array(y_train)"
   ]
  },
  {
   "cell_type": "code",
   "execution_count": 8,
   "metadata": {},
   "outputs": [],
   "source": [
    "x_train=np.reshape(x_train,(x_train.shape[0],x_train.shape[1],1))"
   ]
  },
  {
   "cell_type": "code",
   "execution_count": 9,
   "metadata": {},
   "outputs": [
    {
     "data": {
      "text/plain": [
       "(1208, 50, 1)"
      ]
     },
     "execution_count": 9,
     "metadata": {},
     "output_type": "execute_result"
    }
   ],
   "source": [
    "x_train.shape"
   ]
  },
  {
   "cell_type": "code",
   "execution_count": 10,
   "metadata": {},
   "outputs": [],
   "source": [
    "from keras.models import Sequential\n",
    "from keras.layers import Dense\n",
    "from keras.layers import LSTM\n",
    "from keras.layers import Dropout"
   ]
  },
  {
   "cell_type": "code",
   "execution_count": 17,
   "metadata": {},
   "outputs": [],
   "source": [
    "rnn_model1=Sequential()"
   ]
  },
  {
   "cell_type": "code",
   "execution_count": 18,
   "metadata": {},
   "outputs": [],
   "source": [
    "rnn_model1.add(LSTM(units=50,return_sequences=True,input_shape=(x_train.shape[1],1)))\n",
    "rnn_model1.add(Dropout(0.2))"
   ]
  },
  {
   "cell_type": "code",
   "execution_count": 20,
   "metadata": {},
   "outputs": [],
   "source": [
    "rnn_model1.add(LSTM(units=50,return_sequences=True))\n",
    "rnn_model1.add(Dropout(0.2))\n",
    "\n",
    "rnn_model1.add(LSTM(units=50,return_sequences=True))\n",
    "rnn_model1.add(Dropout(0.2))\n",
    "\n",
    "rnn_model1.add(LSTM(units=50))\n",
    "rnn_model1.add(Dropout(0.2))"
   ]
  },
  {
   "cell_type": "code",
   "execution_count": 21,
   "metadata": {},
   "outputs": [],
   "source": [
    "rnn_model1.add(Dense(units=1))"
   ]
  },
  {
   "cell_type": "code",
   "execution_count": 22,
   "metadata": {},
   "outputs": [],
   "source": [
    "rnn_model1.compile(optimizer=\"adam\",\n",
    "                  loss=\"mean_squared_error\")\n"
   ]
  },
  {
   "cell_type": "code",
   "execution_count": 24,
   "metadata": {},
   "outputs": [
    {
     "name": "stdout",
     "output_type": "stream",
     "text": [
      "Epoch 1/100\n",
      "1208/1208 [==============================] - 6s 5ms/step - loss: 0.0033\n",
      "Epoch 2/100\n",
      "1208/1208 [==============================] - 6s 5ms/step - loss: 0.0035\n",
      "Epoch 3/100\n",
      "1208/1208 [==============================] - 6s 5ms/step - loss: 0.0036\n",
      "Epoch 4/100\n",
      "1208/1208 [==============================] - 6s 5ms/step - loss: 0.0029\n",
      "Epoch 5/100\n",
      "1208/1208 [==============================] - 6s 5ms/step - loss: 0.0027\n",
      "Epoch 6/100\n",
      "1208/1208 [==============================] - 6s 5ms/step - loss: 0.0027\n",
      "Epoch 7/100\n",
      "1208/1208 [==============================] - 6s 5ms/step - loss: 0.0029\n",
      "Epoch 8/100\n",
      "1208/1208 [==============================] - 6s 5ms/step - loss: 0.0033\n",
      "Epoch 9/100\n",
      "1208/1208 [==============================] - 6s 5ms/step - loss: 0.0031\n",
      "Epoch 10/100\n",
      "1208/1208 [==============================] - 6s 5ms/step - loss: 0.0030\n",
      "Epoch 11/100\n",
      "1208/1208 [==============================] - 6s 5ms/step - loss: 0.0027\n",
      "Epoch 12/100\n",
      "1208/1208 [==============================] - 6s 5ms/step - loss: 0.0024\n",
      "Epoch 13/100\n",
      "1208/1208 [==============================] - 6s 5ms/step - loss: 0.0026\n",
      "Epoch 14/100\n",
      "1208/1208 [==============================] - 6s 5ms/step - loss: 0.0025A\n",
      "Epoch 15/100\n",
      "1208/1208 [==============================] - 6s 5ms/step - loss: 0.0022\n",
      "Epoch 16/100\n",
      "1208/1208 [==============================] - 6s 5ms/step - loss: 0.0025\n",
      "Epoch 17/100\n",
      "1208/1208 [==============================] - 6s 5ms/step - loss: 0.0024\n",
      "Epoch 18/100\n",
      "1208/1208 [==============================] - 6s 5ms/step - loss: 0.0024\n",
      "Epoch 19/100\n",
      "1208/1208 [==============================] - 6s 5ms/step - loss: 0.0026\n",
      "Epoch 20/100\n",
      "1208/1208 [==============================] - 6s 5ms/step - loss: 0.0024\n",
      "Epoch 21/100\n",
      "1208/1208 [==============================] - 6s 5ms/step - loss: 0.0023\n",
      "Epoch 22/100\n",
      "1208/1208 [==============================] - 6s 5ms/step - loss: 0.0021A: 1s - los\n",
      "Epoch 23/100\n",
      "1208/1208 [==============================] - 6s 5ms/step - loss: 0.0024\n",
      "Epoch 24/100\n",
      "1208/1208 [==============================] - 6s 5ms/step - loss: 0.0023\n",
      "Epoch 25/100\n",
      "1208/1208 [==============================] - 6s 5ms/step - loss: 0.0022\n",
      "Epoch 26/100\n",
      "1208/1208 [==============================] - 6s 5ms/step - loss: 0.0022\n",
      "Epoch 27/100\n",
      "1208/1208 [==============================] - 6s 5ms/step - loss: 0.0022\n",
      "Epoch 28/100\n",
      "1208/1208 [==============================] - 6s 5ms/step - loss: 0.0020\n",
      "Epoch 29/100\n",
      "1208/1208 [==============================] - 6s 5ms/step - loss: 0.0021\n",
      "Epoch 30/100\n",
      "1208/1208 [==============================] - 6s 5ms/step - loss: 0.0022\n",
      "Epoch 31/100\n",
      "1208/1208 [==============================] - 6s 5ms/step - loss: 0.0023\n",
      "Epoch 32/100\n",
      "1208/1208 [==============================] - 6s 5ms/step - loss: 0.0021\n",
      "Epoch 33/100\n",
      "1208/1208 [==============================] - 6s 5ms/step - loss: 0.0020\n",
      "Epoch 34/100\n",
      "1208/1208 [==============================] - 6s 5ms/step - loss: 0.0023\n",
      "Epoch 35/100\n",
      "1208/1208 [==============================] - 6s 5ms/step - loss: 0.0019\n",
      "Epoch 36/100\n",
      "1208/1208 [==============================] - 6s 5ms/step - loss: 0.0018\n",
      "Epoch 37/100\n",
      "1208/1208 [==============================] - 6s 5ms/step - loss: 0.0018\n",
      "Epoch 38/100\n",
      "1208/1208 [==============================] - 6s 5ms/step - loss: 0.0017A: 0s - loss: 0.001\n",
      "Epoch 39/100\n",
      "1208/1208 [==============================] - 6s 5ms/step - loss: 0.0018\n",
      "Epoch 40/100\n",
      "1208/1208 [==============================] - 6s 5ms/step - loss: 0.0020\n",
      "Epoch 41/100\n",
      "1208/1208 [==============================] - 6s 5ms/step - loss: 0.0019\n",
      "Epoch 42/100\n",
      "1208/1208 [==============================] - 6s 5ms/step - loss: 0.0017\n",
      "Epoch 43/100\n",
      "1208/1208 [==============================] - 6s 5ms/step - loss: 0.0022\n",
      "Epoch 44/100\n",
      "1208/1208 [==============================] - 6s 5ms/step - loss: 0.0018A: 0s - loss: 0.0\n",
      "Epoch 45/100\n",
      "1208/1208 [==============================] - 6s 5ms/step - loss: 0.0019\n",
      "Epoch 46/100\n",
      "1208/1208 [==============================] - 6s 5ms/step - loss: 0.0018\n",
      "Epoch 47/100\n",
      "1208/1208 [==============================] - 6s 5ms/step - loss: 0.0016\n",
      "Epoch 48/100\n",
      "1208/1208 [==============================] - 6s 5ms/step - loss: 0.0018A: 1s - loss:\n",
      "Epoch 49/100\n",
      "1208/1208 [==============================] - 6s 5ms/step - loss: 0.0016\n",
      "Epoch 50/100\n",
      "1208/1208 [==============================] - 6s 5ms/step - loss: 0.0017\n",
      "Epoch 51/100\n",
      "1208/1208 [==============================] - 6s 5ms/step - loss: 0.0016\n",
      "Epoch 52/100\n",
      "1208/1208 [==============================] - 6s 5ms/step - loss: 0.0016\n",
      "Epoch 53/100\n",
      "1208/1208 [==============================] - 6s 5ms/step - loss: 0.0018\n",
      "Epoch 54/100\n",
      "1208/1208 [==============================] - 6s 5ms/step - loss: 0.0018\n",
      "Epoch 55/100\n",
      "1208/1208 [==============================] - 6s 5ms/step - loss: 0.0016\n",
      "Epoch 56/100\n",
      "1208/1208 [==============================] - 6s 5ms/step - loss: 0.0018\n",
      "Epoch 57/100\n",
      "1208/1208 [==============================] - 6s 5ms/step - loss: 0.0015\n",
      "Epoch 58/100\n",
      "1208/1208 [==============================] - 6s 5ms/step - loss: 0.0016\n",
      "Epoch 59/100\n",
      "1208/1208 [==============================] - 6s 5ms/step - loss: 0.0016A: 1s - lo\n",
      "Epoch 60/100\n",
      "1208/1208 [==============================] - 6s 5ms/step - loss: 0.0015A: 0s - loss: 0.\n",
      "Epoch 61/100\n",
      "1208/1208 [==============================] - 6s 5ms/step - loss: 0.0013\n",
      "Epoch 62/100\n",
      "1208/1208 [==============================] - 6s 5ms/step - loss: 0.0016\n",
      "Epoch 63/100\n",
      "1208/1208 [==============================] - 6s 5ms/step - loss: 0.0015A: 0s - loss: 0.\n",
      "Epoch 64/100\n",
      "1208/1208 [==============================] - 6s 5ms/step - loss: 0.0015\n",
      "Epoch 65/100\n",
      "1208/1208 [==============================] - 6s 5ms/step - loss: 0.0015\n",
      "Epoch 66/100\n",
      "1208/1208 [==============================] - 6s 5ms/step - loss: 0.0016\n",
      "Epoch 67/100\n",
      "1208/1208 [==============================] - 6s 5ms/step - loss: 0.0014\n",
      "Epoch 68/100\n",
      "1208/1208 [==============================] - 6s 5ms/step - loss: 0.0015\n",
      "Epoch 69/100\n",
      "1208/1208 [==============================] - 6s 5ms/step - loss: 0.0016\n",
      "Epoch 70/100\n",
      "1208/1208 [==============================] - 6s 5ms/step - loss: 0.0014A: 1s - loss\n",
      "Epoch 71/100\n",
      "1208/1208 [==============================] - 6s 5ms/step - loss: 0.0014\n",
      "Epoch 72/100\n",
      "1208/1208 [==============================] - 6s 5ms/step - loss: 0.0013\n",
      "Epoch 73/100\n",
      "1208/1208 [==============================] - 6s 5ms/step - loss: 0.0013\n",
      "Epoch 74/100\n",
      "1208/1208 [==============================] - 6s 5ms/step - loss: 0.0014\n",
      "Epoch 75/100\n",
      "1208/1208 [==============================] - 6s 5ms/step - loss: 0.0013\n",
      "Epoch 76/100\n",
      "1208/1208 [==============================] - 6s 5ms/step - loss: 0.0014\n",
      "Epoch 77/100\n",
      "1208/1208 [==============================] - 6s 5ms/step - loss: 0.0013\n",
      "Epoch 78/100\n",
      "1208/1208 [==============================] - 6s 5ms/step - loss: 0.0013\n",
      "Epoch 79/100\n",
      "1208/1208 [==============================] - 6s 5ms/step - loss: 0.0013\n",
      "Epoch 80/100\n",
      "1208/1208 [==============================] - 6s 5ms/step - loss: 0.0014\n",
      "Epoch 81/100\n",
      "1208/1208 [==============================] - 6s 5ms/step - loss: 0.0012\n",
      "Epoch 82/100\n",
      "1208/1208 [==============================] - 6s 5ms/step - loss: 0.0012\n",
      "Epoch 83/100\n",
      "1208/1208 [==============================] - 6s 5ms/step - loss: 0.0014\n",
      "Epoch 84/100\n",
      "1208/1208 [==============================] - 6s 5ms/step - loss: 0.0011\n",
      "Epoch 85/100\n",
      "1208/1208 [==============================] - 6s 5ms/step - loss: 0.0014\n",
      "Epoch 86/100\n",
      "1208/1208 [==============================] - 6s 5ms/step - loss: 0.0011\n",
      "Epoch 87/100\n",
      "1208/1208 [==============================] - 6s 5ms/step - loss: 0.0011\n",
      "Epoch 88/100\n",
      "1208/1208 [==============================] - 6s 5ms/step - loss: 0.0013\n",
      "Epoch 89/100\n",
      "1208/1208 [==============================] - 6s 5ms/step - loss: 0.0012A: 1s - loss:\n",
      "Epoch 90/100\n",
      "1208/1208 [==============================] - 6s 5ms/step - loss: 0.0011\n",
      "Epoch 91/100\n",
      "1208/1208 [==============================] - 6s 5ms/step - loss: 0.0011\n",
      "Epoch 92/100\n",
      "1208/1208 [==============================] - 6s 5ms/step - loss: 0.0012\n",
      "Epoch 93/100\n",
      "1208/1208 [==============================] - 6s 5ms/step - loss: 0.0014\n",
      "Epoch 94/100\n",
      "1208/1208 [==============================] - 6s 5ms/step - loss: 0.0011\n",
      "Epoch 95/100\n"
     ]
    },
    {
     "name": "stdout",
     "output_type": "stream",
     "text": [
      "1208/1208 [==============================] - 6s 5ms/step - loss: 0.0011\n",
      "Epoch 96/100\n",
      "1208/1208 [==============================] - 6s 5ms/step - loss: 0.0011A: 2s -\n",
      "Epoch 97/100\n",
      "1208/1208 [==============================] - 6s 5ms/step - loss: 0.0011\n",
      "Epoch 98/100\n",
      "1208/1208 [==============================] - 6s 5ms/step - loss: 0.0010\n",
      "Epoch 99/100\n",
      "1208/1208 [==============================] - 6s 5ms/step - loss: 0.0011\n",
      "Epoch 100/100\n",
      "1208/1208 [==============================] - 6s 5ms/step - loss: 9.8571e-04\n"
     ]
    },
    {
     "data": {
      "text/plain": [
       "<keras.callbacks.callbacks.History at 0x22535828588>"
      ]
     },
     "execution_count": 24,
     "metadata": {},
     "output_type": "execute_result"
    }
   ],
   "source": [
    "rnn_model1.fit(x=x_train,y=y_train,epochs=100,batch_size=40)"
   ]
  },
  {
   "cell_type": "code",
   "execution_count": 25,
   "metadata": {},
   "outputs": [],
   "source": [
    "test_dataset=pd.read_csv(\"Goldman_sachs_stocks_test.csv\")"
   ]
  },
  {
   "cell_type": "code",
   "execution_count": 26,
   "metadata": {},
   "outputs": [],
   "source": [
    "test=test_dataset.iloc[:,1:2].values"
   ]
  },
  {
   "cell_type": "code",
   "execution_count": 34,
   "metadata": {},
   "outputs": [],
   "source": [
    "total_data=pd.concat((train_dataset[\"Open\"],test_dataset[\"Open\"]),axis=0)"
   ]
  },
  {
   "cell_type": "code",
   "execution_count": 43,
   "metadata": {},
   "outputs": [],
   "source": [
    "inputs=total_data[len(total_data)-len(test)-50:].values\n",
    "inputs=inputs.reshape(-1,1)\n",
    "inputs=sc.fit_transform(inputs)"
   ]
  },
  {
   "cell_type": "code",
   "execution_count": 55,
   "metadata": {},
   "outputs": [],
   "source": [
    "x_test=[]\n",
    "for i in range(50,len(test)):\n",
    "    x_test.append(inputs[i-50:i,0])\n",
    "x_test=np.array(x_test)\n",
    "x_test=np.reshape(x_test,(x_test.shape[0],x_test.shape[1],1))\n",
    "predicted_stock=rnn_model1.predict(x_test)\n",
    "predicted_stock_price=sc.inverse_transform(predicted_stock)"
   ]
  },
  {
   "cell_type": "code",
   "execution_count": 56,
   "metadata": {},
   "outputs": [
    {
     "data": {
      "image/png": "[encoded data removed]",
      "text/plain": [
       "<Figure size 432x288 with 1 Axes>"
      ]
     },
     "metadata": {
      "needs_background": "light"
     },
     "output_type": "display_data"
    }
   ],
   "source": [
    "plt.plot(predicted_stock_price,color=\"red\",label=\"predited_stock_price\")\n",
    "plt.plot(test,color=\"blue\",label=\"real_stock_price\")\n",
    "plt.title(\"Goldman stock prices\")\n",
    "plt.xlabel(\"time\")\n",
    "plt.ylabel(\"stock prices\")\n",
    "plt.legend()\n",
    "plt.show()"
   ]
  },
  {
   "cell_type": "code",
   "execution_count": null,
   "metadata": {},
   "outputs": [],
   "source": []
  }
 ],
 "metadata": {
  "kernelspec": {
   "display_name": "Python 3",
   "language": "python",
   "name": "python3"
  },
  "language_info": {
   "codemirror_mode": {
    "name": "ipython",
    "version": 3
   },
   "file_extension": ".py",
   "mimetype": "text/x-python",
   "name": "python",
   "nbconvert_exporter": "python",
   "pygments_lexer": "ipython3",
   "version": "3.7.7"
  }
 },
 "nbformat": 4,
 "nbformat_minor": 4
}
